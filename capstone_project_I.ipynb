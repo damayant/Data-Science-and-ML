{
  "nbformat": 4,
  "nbformat_minor": 0,
  "metadata": {
    "colab": {
      "provenance": [],
      "authorship_tag": "ABX9TyNywNpR1kiBfwxj+XC+cWR4",
      "include_colab_link": true
    },
    "kernelspec": {
      "name": "python3",
      "display_name": "Python 3"
    },
    "language_info": {
      "name": "python"
    }
  },
  "cells": [
    {
      "cell_type": "markdown",
      "metadata": {
        "id": "view-in-github",
        "colab_type": "text"
      },
      "source": [
        "<a href=\"https://colab.research.google.com/github/damayant/Data-Science/blob/master/capstone_project_I.ipynb\" target=\"_parent\"><img src=\"https://colab.research.google.com/assets/colab-badge.svg\" alt=\"Open In Colab\"/></a>"
      ]
    },
    {
      "cell_type": "code",
      "execution_count": 4,
      "metadata": {
        "id": "1ggWfQNjHfOn"
      },
      "outputs": [],
      "source": [
        "import numpy as np\n",
        "import matplotlib.pyplot\n",
        "import pandas as pd"
      ]
    },
    {
      "cell_type": "code",
      "source": [
        "#read the csv\n",
        "data = pd.read_csv('data.csv')"
      ],
      "metadata": {
        "id": "2G5lMjGYSL_s"
      },
      "execution_count": 6,
      "outputs": []
    },
    {
      "cell_type": "code",
      "source": [
        "#drop duplicate entries\n",
        "data = data.drop_duplicates()\n"
      ],
      "metadata": {
        "id": "RkP4zIW2S_X8"
      },
      "execution_count": null,
      "outputs": []
    },
    {
      "cell_type": "code",
      "source": [
        "#drop rows where postal, phone1 are empty\n",
        "data = data.dropna(subset=['postal','phone1'])"
      ],
      "metadata": {
        "id": "v7i-MMhvVH6x"
      },
      "execution_count": 7,
      "outputs": []
    },
    {
      "cell_type": "code",
      "source": [
        "#save cleaned data in a new csv\n",
        "cleaned_data = pd.DataFrame(data)\n",
        "cleaned_data.to_csv('cleaned_data.csv',index=False)"
      ],
      "metadata": {
        "id": "gxyJRk_EXzxa"
      },
      "execution_count": 8,
      "outputs": []
    },
    {
      "cell_type": "code",
      "source": [
        "pip install pgeocode\n"
      ],
      "metadata": {
        "colab": {
          "base_uri": "https://localhost:8080/"
        },
        "id": "IyzDczGdPyVU",
        "outputId": "5a93b89a-611b-46b1-e80e-36616d9736e5"
      },
      "execution_count": 1,
      "outputs": [
        {
          "output_type": "stream",
          "name": "stdout",
          "text": [
            "Looking in indexes: https://pypi.org/simple, https://us-python.pkg.dev/colab-wheels/public/simple/\n",
            "Collecting pgeocode\n",
            "  Downloading pgeocode-0.4.0-py3-none-any.whl (9.7 kB)\n",
            "Requirement already satisfied: requests in /usr/local/lib/python3.10/dist-packages (from pgeocode) (2.27.1)\n",
            "Requirement already satisfied: numpy in /usr/local/lib/python3.10/dist-packages (from pgeocode) (1.22.4)\n",
            "Requirement already satisfied: pandas in /usr/local/lib/python3.10/dist-packages (from pgeocode) (1.5.3)\n",
            "Requirement already satisfied: python-dateutil>=2.8.1 in /usr/local/lib/python3.10/dist-packages (from pandas->pgeocode) (2.8.2)\n",
            "Requirement already satisfied: pytz>=2020.1 in /usr/local/lib/python3.10/dist-packages (from pandas->pgeocode) (2022.7.1)\n",
            "Requirement already satisfied: urllib3<1.27,>=1.21.1 in /usr/local/lib/python3.10/dist-packages (from requests->pgeocode) (1.26.15)\n",
            "Requirement already satisfied: certifi>=2017.4.17 in /usr/local/lib/python3.10/dist-packages (from requests->pgeocode) (2022.12.7)\n",
            "Requirement already satisfied: charset-normalizer~=2.0.0 in /usr/local/lib/python3.10/dist-packages (from requests->pgeocode) (2.0.12)\n",
            "Requirement already satisfied: idna<4,>=2.5 in /usr/local/lib/python3.10/dist-packages (from requests->pgeocode) (3.4)\n",
            "Requirement already satisfied: six>=1.5 in /usr/local/lib/python3.10/dist-packages (from python-dateutil>=2.8.1->pandas->pgeocode) (1.16.0)\n",
            "Installing collected packages: pgeocode\n",
            "Successfully installed pgeocode-0.4.0\n"
          ]
        }
      ]
    },
    {
      "cell_type": "code",
      "source": [
        "import pgeocode\n",
        "\n",
        "def get_province(postal_code):\n",
        "    nomi = pgeocode.Nominatim('ca')\n",
        "    location_info = nomi.query_postal_code(postal_code)\n",
        "    province = location_info.state_name\n",
        "    return province\n",
        "\n",
        "# Example usage\n",
        "postal_code = 'V7P 3A2'  # Replace with the postal code you want to lookup\n",
        "province = get_province(postal_code)\n",
        "print(f\"The province for postal code {postal_code} is {province}.\")\n"
      ],
      "metadata": {
        "colab": {
          "base_uri": "https://localhost:8080/"
        },
        "id": "_NPl77-KPzye",
        "outputId": "c2e5aa2e-a7db-41d3-9987-4fd6a46c55a2"
      },
      "execution_count": 3,
      "outputs": [
        {
          "output_type": "stream",
          "name": "stdout",
          "text": [
            "The province for postal code V7P 3A2 is British Columbia.\n"
          ]
        }
      ]
    },
    {
      "cell_type": "code",
      "source": [
        "# Read the CSV file into a pandas DataFrame\n",
        "data = pd.read_csv('cleaned_data.csv')\n",
        "\n",
        "# Apply the get_province function to the 'postal_code' column\n",
        "data['province'] = data['postal'].apply(get_province)\n",
        "\n",
        "# Save the updated DataFrame to a new CSV file\n",
        "data.to_csv('cleaned_data.csv', index=False)"
      ],
      "metadata": {
        "id": "p-czNThzP_Mn"
      },
      "execution_count": 10,
      "outputs": []
    },
    {
      "cell_type": "code",
      "source": [
        "from sklearn.cluster import KMeans\n"
      ],
      "metadata": {
        "id": "1NemLb_nRdDY"
      },
      "execution_count": 11,
      "outputs": []
    }
  ]
}